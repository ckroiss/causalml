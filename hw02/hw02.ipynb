{
 "cells": [
  {
   "cell_type": "code",
   "execution_count": 1,
   "metadata": {},
   "outputs": [],
   "source": [
    "import matplotlib.pyplot as plt\n",
    "import numpy as np\n",
    "import torch\n",
    "\n",
    "import pyro\n",
    "import pyro.infer\n",
    "import pyro.optim\n",
    "import pyro.distributions as dist\n",
    "from IPython.display import Markdown, Math\n",
    "\n",
    "pyro.set_rng_seed(101)"
   ]
  },
  {
   "cell_type": "code",
   "execution_count": 2,
   "metadata": {
    "code_folding": []
   },
   "outputs": [],
   "source": [
    "def model():\n",
    "    # off, on\n",
    "    A = pyro.sample(\"A\", dist.Categorical(torch.tensor([0.5, 0.5])))\n",
    "    prob_B = torch.tensor([\n",
    "        [0.8, 0.2], # A = off\n",
    "        [0.1, 0.9] # A = on\n",
    "    ])\n",
    "    B = pyro.sample(\"B\", dist.Categorical(prob_B[A]))\n",
    "    prob_C = torch.tensor([\n",
    "        # B = off\n",
    "        [\n",
    "            [0.9, 0.1], # A = off\n",
    "            [0.99, 0.01] # A = on\n",
    "        ],\n",
    "        # B = on\n",
    "        [\n",
    "            [0.1, 0.9], # A = off\n",
    "            [0.4, 0.6] # A = on\n",
    "        ]\n",
    "    ])\n",
    "    C = pyro.sample(\"C\", dist.Categorical(prob_C[B, A]))"
   ]
  },
  {
   "cell_type": "code",
   "execution_count": 3,
   "metadata": {},
   "outputs": [],
   "source": [
    "model_cond = pyro.condition(model, data={\"B\": torch.tensor(1), \"C\": torch.tensor(1)})"
   ]
  },
  {
   "cell_type": "code",
   "execution_count": 4,
   "metadata": {},
   "outputs": [],
   "source": [
    "imp_cond = pyro.infer.Importance(\n",
    "    model=model_cond, num_samples=20000)\n",
    "\n",
    "inf_cond = imp_cond.run()"
   ]
  },
  {
   "cell_type": "code",
   "execution_count": 16,
   "metadata": {},
   "outputs": [],
   "source": [
    "p_a_on_given_b_c_on = torch.exp(inf_cond.marginal(\"A\").empirical[\"A\"].log_prob(1))"
   ]
  },
  {
   "cell_type": "code",
   "execution_count": 17,
   "metadata": {
    "hide_input": false
   },
   "outputs": [
    {
     "data": {
      "text/latex": [
       "$\\displaystyle P(A=on|B=on, C=on) = 0.749$"
      ],
      "text/plain": [
       "<IPython.core.display.Math object>"
      ]
     },
     "execution_count": 17,
     "metadata": {},
     "output_type": "execute_result"
    }
   ],
   "source": [
    "Math(f\"P(A=on|B=on, C=on) = {p_a_on_given_b_c_on:.3}\")"
   ]
  },
  {
   "cell_type": "code",
   "execution_count": 10,
   "metadata": {},
   "outputs": [],
   "source": [
    "model_do = pyro.do(\n",
    "    pyro.condition(model, data={\"C\": torch.tensor(1)}),\n",
    "    data={\"B\": torch.tensor(1)}\n",
    ")"
   ]
  },
  {
   "cell_type": "code",
   "execution_count": 11,
   "metadata": {},
   "outputs": [],
   "source": [
    "imp_do = pyro.infer.Importance(\n",
    "    model=model_do, num_samples=10000)"
   ]
  },
  {
   "cell_type": "code",
   "execution_count": 12,
   "metadata": {},
   "outputs": [],
   "source": [
    "inf_do = imp_do.run()"
   ]
  },
  {
   "cell_type": "code",
   "execution_count": 13,
   "metadata": {},
   "outputs": [],
   "source": [
    "p_a_on_given_c_on_do_b_on = torch.exp(inf_do.marginal(\"A\").empirical[\"A\"].log_prob(1))"
   ]
  },
  {
   "cell_type": "code",
   "execution_count": 14,
   "metadata": {
    "hide_input": true
   },
   "outputs": [
    {
     "data": {
      "text/latex": [
       "$\\displaystyle P(A=on|do(B=on), C=on) = 0.399$"
      ],
      "text/plain": [
       "<IPython.core.display.Math object>"
      ]
     },
     "execution_count": 14,
     "metadata": {},
     "output_type": "execute_result"
    }
   ],
   "source": [
    "Math(f\"P(A=on|do(B=on), C=on) = {p_a_on_given_c_on_do_b_on:.3}\")"
   ]
  },
  {
   "cell_type": "code",
   "execution_count": null,
   "metadata": {},
   "outputs": [],
   "source": []
  }
 ],
 "metadata": {
  "hide_input": false,
  "kernelspec": {
   "display_name": "Python 3",
   "language": "python",
   "name": "python3"
  },
  "language_info": {
   "codemirror_mode": {
    "name": "ipython",
    "version": 3
   },
   "file_extension": ".py",
   "mimetype": "text/x-python",
   "name": "python",
   "nbconvert_exporter": "python",
   "pygments_lexer": "ipython3",
   "version": "3.8.2"
  }
 },
 "nbformat": 4,
 "nbformat_minor": 4
}
