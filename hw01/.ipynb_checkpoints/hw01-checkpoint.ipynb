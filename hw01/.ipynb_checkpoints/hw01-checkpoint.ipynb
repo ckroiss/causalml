{
 "cells": [
  {
   "cell_type": "code",
   "execution_count": 12,
   "metadata": {},
   "outputs": [],
   "source": [
    "import matplotlib.pyplot as plt\n",
    "import numpy as np\n",
    "import torch\n",
    "\n",
    "import pyro\n",
    "import pyro.infer\n",
    "import pyro.optim\n",
    "import pyro.distributions as dist\n",
    "\n",
    "pyro.set_rng_seed(101)\n",
    "pyro.set_va"
   ]
  },
  {
   "cell_type": "code",
   "execution_count": 108,
   "metadata": {},
   "outputs": [],
   "source": [
    "def model():\n",
    "    # A -> adult, old, young\n",
    "    A = pyro.sample(\"A\", dist.Categorical(torch.tensor([0.36, 0.16, 0.48])))\n",
    "    # S -> F, M\n",
    "    S = pyro.sample(\"S\", dist.Categorical(torch.tensor([0.55, 0.45])))\n",
    "    prob_E = torch.tensor([\n",
    "        # S = F\n",
    "        [\n",
    "            [0.64, 0.36], # A = adult\n",
    "            [0.84, 0.16], # A = old\n",
    "            [0.16, 0.84] # A = young\n",
    "        ],\n",
    "        # S = M\n",
    "        [\n",
    "            [0.72, 0.28], # A = adult\n",
    "            [0.89, 0.11], # A = old\n",
    "            [0.81, 0.19] # A = young\n",
    "        ]\n",
    "    ])\n",
    "    # E -> high, uni\n",
    "    E = pyro.sample(\"E\", dist.Categorical(prob_E[S, A]))\n",
    "    prob_O = torch.tensor([\n",
    "        [0.98, 0.02], # E = high\n",
    "        [0.97, 0.03] # E = uni\n",
    "    ])\n",
    "    # O -> emp, self\n",
    "    O = pyro.sample(\"O\", dist.Categorical(prob_O[E]))\n",
    "    \n",
    "    prob_R = torch.tensor([\n",
    "        [0.72, 0.28], # E = high\n",
    "        [0.94, 0.06] # E = uni\n",
    "    ])\n",
    "    # R -> big, small\n",
    "    R = pyro.sample(\"R\", dist.Categorical(prob_R[E]))\n",
    "    \n",
    "    prob_T = torch.tensor([\n",
    "        # R = big\n",
    "        [\n",
    "            [0.71, 0.14, 0.15], # O = emp\n",
    "            [0.69, 0.16, 0.16] # O = self\n",
    "        ],\n",
    "        # R = small\n",
    "        [\n",
    "            [0.55, 0.08, 0.38], # O = emp\n",
    "            [0.73, 0.25, 0.02] # O = sel\n",
    "        ]\n",
    "    ])\n",
    "    # T -> car, other, train\n",
    "    T = pyro.sample(\"T\", dist.Categorical(prob_T[R, O]))"
   ]
  },
  {
   "cell_type": "code",
   "execution_count": 109,
   "metadata": {},
   "outputs": [],
   "source": [
    "model_E = pyro.condition(model, data={\"E\": torch.tensor(1)})"
   ]
  },
  {
   "cell_type": "code",
   "execution_count": 191,
   "metadata": {},
   "outputs": [],
   "source": [
    "imp_E = pyro.infer.Importance(\n",
    "    model=model_E, num_samples=10000)\n",
    "\n",
    "inf_E = imp_E.run()"
   ]
  },
  {
   "cell_type": "code",
   "execution_count": 301,
   "metadata": {},
   "outputs": [
    {
     "data": {
      "image/png": "[encoded data removed]",
      "text/plain": [
       "<Figure size 432x288 with 1 Axes>"
      ]
     },
     "metadata": {
      "needs_background": "light"
     },
     "output_type": "display_data"
    }
   ],
   "source": [
    "emp_E_T = inf_E.marginal(\"T\").empirical[\"T\"]\n",
    "\n",
    "probs_E_T = torch.tensor([torch.exp(emp_E_T.log_prob(i)) for i in range(3)])\n",
    "\n",
    "plt.bar([\"car\",\"other\",\"train\"], probs_E_T);"
   ]
  },
  {
   "cell_type": "code",
   "execution_count": 304,
   "metadata": {},
   "outputs": [],
   "source": [
    "model_O_R = pyro.condition(model, data={\"O\": torch.tensor(1), \"R\": torch.tensor(0)})"
   ]
  },
  {
   "cell_type": "code",
   "execution_count": 305,
   "metadata": {},
   "outputs": [],
   "source": [
    "imp_O_R = pyro.infer.Importance(\n",
    "    model=model_O_R, num_samples=10000)\n",
    "\n",
    "inf_O_R = imp_O_R.run()"
   ]
  },
  {
   "cell_type": "code",
   "execution_count": 307,
   "metadata": {},
   "outputs": [
    {
     "data": {
      "image/png": "[encoded data removed]",
      "text/plain": [
       "<Figure size 432x288 with 1 Axes>"
      ]
     },
     "metadata": {
      "needs_background": "light"
     },
     "output_type": "display_data"
    }
   ],
   "source": [
    "emp_O_R_A = inf_O_R.marginal(\"A\").empirical[\"A\"]\n",
    "\n",
    "probs_O_R_A = torch.tensor([torch.exp(emp_O_R_A.log_prob(i)) for i in range(3)])\n",
    "\n",
    "plt.bar([\"adult\",\"old\",\"young\"], probs_O_R_A);"
   ]
  },
  {
   "cell_type": "code",
   "execution_count": null,
   "metadata": {},
   "outputs": [],
   "source": []
  }
 ],
 "metadata": {
  "kernelspec": {
   "display_name": "Python 3",
   "language": "python",
   "name": "python3"
  },
  "language_info": {
   "codemirror_mode": {
    "name": "ipython",
    "version": 3
   },
   "file_extension": ".py",
   "mimetype": "text/x-python",
   "name": "python",
   "nbconvert_exporter": "python",
   "pygments_lexer": "ipython3",
   "version": "3.8.2"
  }
 },
 "nbformat": 4,
 "nbformat_minor": 4
}
