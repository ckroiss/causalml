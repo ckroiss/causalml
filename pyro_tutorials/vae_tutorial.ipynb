{
 "cells": [
  {
   "cell_type": "code",
   "execution_count": 1,
   "metadata": {},
   "outputs": [],
   "source": [
    "import os\n",
    "\n",
    "import numpy as np\n",
    "import torch\n",
    "import torchvision.datasets as dset\n",
    "import torch.nn as nn\n",
    "import torchvision.transforms as transforms\n",
    "\n",
    "import pyro\n",
    "import pyro.distributions as dist\n",
    "import pyro.contrib.examples.util  # patches torchvision\n",
    "from pyro.infer import SVI, Trace_ELBO\n",
    "from pyro.optim import Adam"
   ]
  },
  {
   "cell_type": "code",
   "execution_count": 2,
   "metadata": {},
   "outputs": [
    {
     "data": {
      "text/plain": [
       "True"
      ]
     },
     "execution_count": 2,
     "metadata": {},
     "output_type": "execute_result"
    }
   ],
   "source": [
    "torch.cuda.is_available()"
   ]
  },
  {
   "cell_type": "code",
   "execution_count": 3,
   "metadata": {},
   "outputs": [],
   "source": [
    "assert pyro.__version__.startswith('1.3.0')\n",
    "pyro.enable_validation(True)\n",
    "pyro.distributions.enable_validation(False)\n",
    "pyro.set_rng_seed(0)\n",
    "# Enable smoke test - run the notebook cells on CI.\n",
    "smoke_test = 'CI' in os.environ"
   ]
  },
  {
   "cell_type": "code",
   "execution_count": 4,
   "metadata": {},
   "outputs": [],
   "source": [
    "# for loading and batching MNIST dataset\n",
    "def setup_data_loaders(batch_size=128, use_cuda=False):\n",
    "    root = './data3'\n",
    "    download = True\n",
    "    trans = transforms.ToTensor()\n",
    "    train_set = dset.MNIST(root=root, train=True, transform=trans,\n",
    "                           download=download)\n",
    "    test_set = dset.MNIST(root=root, train=False, transform=trans)\n",
    "\n",
    "    kwargs = {'num_workers': 1, 'pin_memory': use_cuda}\n",
    "    train_loader = torch.utils.data.DataLoader(dataset=train_set,\n",
    "        batch_size=batch_size, shuffle=True, **kwargs)\n",
    "    test_loader = torch.utils.data.DataLoader(dataset=test_set,\n",
    "        batch_size=batch_size, shuffle=False, **kwargs)\n",
    "    return train_loader, test_loader"
   ]
  },
  {
   "cell_type": "code",
   "execution_count": 5,
   "metadata": {},
   "outputs": [],
   "source": [
    "class Decoder(nn.Module):\n",
    "    def __init__(self, z_dim, hidden_dim):\n",
    "        super().__init__()\n",
    "        # setup the two linear transformations used\n",
    "        self.fc1 = nn.Linear(z_dim, hidden_dim)\n",
    "        self.fc21 = nn.Linear(hidden_dim, 784)\n",
    "        # setup the non-linearities\n",
    "        self.softplus = nn.Softplus()\n",
    "        self.sigmoid = nn.Sigmoid()\n",
    "\n",
    "    def forward(self, z):\n",
    "        # define the forward computation on the latent z\n",
    "        # first compute the hidden units\n",
    "        hidden = self.softplus(self.fc1(z))\n",
    "        # return the parameter for the output Bernoulli\n",
    "        # each is of size batch_size x 784\n",
    "        loc_img = self.sigmoid(self.fc21(hidden))\n",
    "        return loc_img"
   ]
  },
  {
   "cell_type": "code",
   "execution_count": 6,
   "metadata": {},
   "outputs": [],
   "source": [
    "class Encoder(nn.Module):\n",
    "    def __init__(self, z_dim, hidden_dim):\n",
    "        super().__init__()\n",
    "        # setup the three linear transformations used\n",
    "        self.fc1 = nn.Linear(784, hidden_dim)\n",
    "        self.fc21 = nn.Linear(hidden_dim, z_dim)\n",
    "        self.fc22 = nn.Linear(hidden_dim, z_dim)\n",
    "        # setup the non-linearities\n",
    "        self.softplus = nn.Softplus()\n",
    "\n",
    "    def forward(self, x):\n",
    "        # define the forward computation on the image x\n",
    "        # first shape the mini-batch to have pixels in the rightmost dimension\n",
    "        x = x.reshape(-1, 784)\n",
    "        # then compute the hidden units\n",
    "        hidden = self.softplus(self.fc1(x))\n",
    "        # then return a mean vector and a (positive) square root covariance\n",
    "        # each of size batch_size x z_dim\n",
    "        z_loc = self.fc21(hidden)\n",
    "        z_scale = torch.exp(self.fc22(hidden))\n",
    "        return z_loc, z_scale"
   ]
  },
  {
   "cell_type": "code",
   "execution_count": 7,
   "metadata": {},
   "outputs": [],
   "source": [
    "class VAE(nn.Module):\n",
    "    # by default our latent space is 50-dimensional\n",
    "    # and we use 400 hidden units\n",
    "    def __init__(self, z_dim=50, hidden_dim=400, use_cuda=False):\n",
    "        super().__init__()\n",
    "        # create the encoder and decoder networks\n",
    "        self.encoder = Encoder(z_dim, hidden_dim)\n",
    "        self.decoder = Decoder(z_dim, hidden_dim)\n",
    "\n",
    "        if use_cuda:\n",
    "            # calling cuda() here will put all the parameters of\n",
    "            # the encoder and decoder networks into gpu memory\n",
    "            self.cuda()\n",
    "        self.use_cuda = use_cuda\n",
    "        self.z_dim = z_dim\n",
    "\n",
    "    # define the model p(x|z)p(z)\n",
    "    def model(self, x):\n",
    "        # register PyTorch module `decoder` with Pyro\n",
    "        pyro.module(\"decoder\", self.decoder)\n",
    "        with pyro.plate(\"data\", x.shape[0]):\n",
    "            # setup hyperparameters for prior p(z)\n",
    "            z_loc = x.new_zeros(torch.Size((x.shape[0], self.z_dim)))\n",
    "            z_scale = x.new_ones(torch.Size((x.shape[0], self.z_dim)))\n",
    "            # sample from prior (value will be sampled by guide when computing the ELBO)\n",
    "            z = pyro.sample(\"latent\", dist.Normal(z_loc, z_scale).to_event(1))\n",
    "            # decode the latent code z\n",
    "            loc_img = self.decoder.forward(z)\n",
    "            # score against actual images\n",
    "            pyro.sample(\"obs\", dist.Bernoulli(loc_img).to_event(1), obs=x.reshape(-1, 784))\n",
    "\n",
    "    # define the guide (i.e. variational distribution) q(z|x)\n",
    "    def guide(self, x):\n",
    "        # register PyTorch module `encoder` with Pyro\n",
    "        pyro.module(\"encoder\", self.encoder)\n",
    "        with pyro.plate(\"data\", x.shape[0]):\n",
    "            # use the encoder to get the parameters used to define q(z|x)\n",
    "            z_loc, z_scale = self.encoder.forward(x)\n",
    "            # sample the latent code z\n",
    "            pyro.sample(\"latent\", dist.Normal(z_loc, z_scale).to_event(1))\n",
    "\n",
    "    # define a helper function for reconstructing images\n",
    "    def reconstruct_img(self, x):\n",
    "        # encode image x\n",
    "        z_loc, z_scale = self.encoder(x)\n",
    "        # sample in latent space\n",
    "        z = dist.Normal(z_loc, z_scale).sample()\n",
    "        # decode the image (note we don't sample in image space)\n",
    "        loc_img = self.decoder(z)\n",
    "        return loc_img"
   ]
  },
  {
   "cell_type": "code",
   "execution_count": 8,
   "metadata": {},
   "outputs": [],
   "source": [
    "\n",
    "def train(svi, train_loader, use_cuda=False):\n",
    "    # initialize loss accumulator\n",
    "    epoch_loss = 0.\n",
    "    # do a training epoch over each mini-batch x returned\n",
    "    # by the data loader\n",
    "    for x, _ in train_loader:\n",
    "        # if on GPU put mini-batch into CUDA memory\n",
    "        if use_cuda:\n",
    "            x = x.cuda()\n",
    "        # do ELBO gradient and accumulate loss\n",
    "        epoch_loss += svi.step(x)\n",
    "\n",
    "    # return epoch loss\n",
    "    normalizer_train = len(train_loader.dataset)\n",
    "    total_epoch_loss_train = epoch_loss / normalizer_train\n",
    "    return total_epoch_loss_train"
   ]
  },
  {
   "cell_type": "code",
   "execution_count": 9,
   "metadata": {},
   "outputs": [],
   "source": [
    "\n",
    "def evaluate(svi, test_loader, use_cuda=False):\n",
    "    # initialize loss accumulator\n",
    "    test_loss = 0.\n",
    "    # compute the loss over the entire test set\n",
    "    for x, _ in test_loader:\n",
    "        # if on GPU put mini-batch into CUDA memory\n",
    "        if use_cuda:\n",
    "            x = x.cuda()\n",
    "        # compute ELBO estimate and accumulate loss\n",
    "        test_loss += svi.evaluate_loss(x)\n",
    "    normalizer_test = len(test_loader.dataset)\n",
    "    total_epoch_loss_test = test_loss / normalizer_test\n",
    "    return total_epoch_loss_test"
   ]
  },
  {
   "cell_type": "code",
   "execution_count": 10,
   "metadata": {},
   "outputs": [],
   "source": [
    "# Run options\n",
    "LEARNING_RATE = 1.0e-3\n",
    "USE_CUDA = True\n",
    "\n",
    "# Run only for a single iteration for testing\n",
    "NUM_EPOCHS = 1 if smoke_test else 100\n",
    "TEST_FREQUENCY = 5"
   ]
  },
  {
   "cell_type": "code",
   "execution_count": 11,
   "metadata": {},
   "outputs": [
    {
     "name": "stdout",
     "output_type": "stream",
     "text": [
      "[epoch 000]  average training loss: 190.8626\n",
      "[epoch 000] average test loss: 156.0867\n",
      "[epoch 001]  average training loss: 146.5078\n",
      "[epoch 002]  average training loss: 132.5601\n",
      "[epoch 003]  average training loss: 124.0354\n",
      "[epoch 004]  average training loss: 118.7566\n",
      "[epoch 005]  average training loss: 115.4933\n",
      "[epoch 005] average test loss: 113.6633\n",
      "[epoch 006]  average training loss: 113.4032\n",
      "[epoch 007]  average training loss: 111.8120\n",
      "[epoch 008]  average training loss: 110.6950\n",
      "[epoch 009]  average training loss: 109.7616\n",
      "[epoch 010]  average training loss: 109.0093\n",
      "[epoch 010] average test loss: 108.2704\n",
      "[epoch 011]  average training loss: 108.3563\n",
      "[epoch 012]  average training loss: 107.8002\n",
      "[epoch 013]  average training loss: 107.3802\n",
      "[epoch 014]  average training loss: 106.9070\n",
      "[epoch 015]  average training loss: 106.5404\n",
      "[epoch 015] average test loss: 105.9618\n",
      "[epoch 016]  average training loss: 106.2558\n",
      "[epoch 017]  average training loss: 105.9772\n",
      "[epoch 018]  average training loss: 105.7882\n",
      "[epoch 019]  average training loss: 105.4819\n",
      "[epoch 020]  average training loss: 105.3303\n",
      "[epoch 020] average test loss: 104.7383\n",
      "[epoch 021]  average training loss: 105.1455\n",
      "[epoch 022]  average training loss: 104.9636\n",
      "[epoch 023]  average training loss: 104.8041\n",
      "[epoch 024]  average training loss: 104.6807\n",
      "[epoch 025]  average training loss: 104.5796\n",
      "[epoch 025] average test loss: 104.3627\n",
      "[epoch 026]  average training loss: 104.4588\n",
      "[epoch 027]  average training loss: 104.3261\n",
      "[epoch 028]  average training loss: 104.2334\n",
      "[epoch 029]  average training loss: 104.0983\n",
      "[epoch 030]  average training loss: 104.0423\n",
      "[epoch 030] average test loss: 103.8876\n",
      "[epoch 031]  average training loss: 103.9235\n",
      "[epoch 032]  average training loss: 103.8031\n",
      "[epoch 033]  average training loss: 103.7625\n",
      "[epoch 034]  average training loss: 103.6597\n",
      "[epoch 035]  average training loss: 103.5900\n",
      "[epoch 035] average test loss: 103.3550\n",
      "[epoch 036]  average training loss: 103.5124\n",
      "[epoch 037]  average training loss: 103.4453\n",
      "[epoch 038]  average training loss: 103.3354\n",
      "[epoch 039]  average training loss: 103.3024\n",
      "[epoch 040]  average training loss: 103.2317\n",
      "[epoch 040] average test loss: 103.2263\n",
      "[epoch 041]  average training loss: 103.1481\n",
      "[epoch 042]  average training loss: 103.1294\n",
      "[epoch 043]  average training loss: 103.0485\n",
      "[epoch 044]  average training loss: 102.9752\n",
      "[epoch 045]  average training loss: 102.9290\n",
      "[epoch 045] average test loss: 103.0369\n",
      "[epoch 046]  average training loss: 102.9064\n",
      "[epoch 047]  average training loss: 102.8483\n",
      "[epoch 048]  average training loss: 102.7775\n",
      "[epoch 049]  average training loss: 102.7233\n",
      "[epoch 050]  average training loss: 102.6590\n",
      "[epoch 050] average test loss: 102.5943\n",
      "[epoch 051]  average training loss: 102.6163\n",
      "[epoch 052]  average training loss: 102.5871\n",
      "[epoch 053]  average training loss: 102.5481\n",
      "[epoch 054]  average training loss: 102.4767\n",
      "[epoch 055]  average training loss: 102.4387\n",
      "[epoch 055] average test loss: 102.4803\n",
      "[epoch 056]  average training loss: 102.3975\n",
      "[epoch 057]  average training loss: 102.3802\n",
      "[epoch 058]  average training loss: 102.3318\n",
      "[epoch 059]  average training loss: 102.2797\n",
      "[epoch 060]  average training loss: 102.2450\n",
      "[epoch 060] average test loss: 102.2150\n",
      "[epoch 061]  average training loss: 102.2009\n",
      "[epoch 062]  average training loss: 102.1675\n",
      "[epoch 063]  average training loss: 102.1475\n",
      "[epoch 064]  average training loss: 102.0739\n",
      "[epoch 065]  average training loss: 102.0928\n",
      "[epoch 065] average test loss: 102.1927\n",
      "[epoch 066]  average training loss: 102.0388\n",
      "[epoch 067]  average training loss: 101.9913\n",
      "[epoch 068]  average training loss: 101.9206\n",
      "[epoch 069]  average training loss: 101.9344\n",
      "[epoch 070]  average training loss: 101.8848\n",
      "[epoch 070] average test loss: 101.9091\n",
      "[epoch 071]  average training loss: 101.8164\n",
      "[epoch 072]  average training loss: 101.8322\n",
      "[epoch 073]  average training loss: 101.8251\n",
      "[epoch 074]  average training loss: 101.7648\n",
      "[epoch 075]  average training loss: 101.7035\n",
      "[epoch 075] average test loss: 101.8592\n",
      "[epoch 076]  average training loss: 101.7214\n",
      "[epoch 077]  average training loss: 101.6908\n",
      "[epoch 078]  average training loss: 101.6258\n",
      "[epoch 079]  average training loss: 101.6123\n",
      "[epoch 080]  average training loss: 101.5540\n",
      "[epoch 080] average test loss: 101.7662\n",
      "[epoch 081]  average training loss: 101.5481\n",
      "[epoch 082]  average training loss: 101.5134\n",
      "[epoch 083]  average training loss: 101.4977\n",
      "[epoch 084]  average training loss: 101.4458\n",
      "[epoch 085]  average training loss: 101.4289\n",
      "[epoch 085] average test loss: 101.6423\n",
      "[epoch 086]  average training loss: 101.4000\n",
      "[epoch 087]  average training loss: 101.3704\n",
      "[epoch 088]  average training loss: 101.3725\n",
      "[epoch 089]  average training loss: 101.3520\n",
      "[epoch 090]  average training loss: 101.3299\n",
      "[epoch 090] average test loss: 101.5001\n",
      "[epoch 091]  average training loss: 101.2933\n",
      "[epoch 092]  average training loss: 101.2695\n",
      "[epoch 093]  average training loss: 101.2528\n",
      "[epoch 094]  average training loss: 101.2209\n",
      "[epoch 095]  average training loss: 101.1831\n",
      "[epoch 095] average test loss: 101.4476\n",
      "[epoch 096]  average training loss: 101.1622\n",
      "[epoch 097]  average training loss: 101.1338\n",
      "[epoch 098]  average training loss: 101.1126\n",
      "[epoch 099]  average training loss: 101.0772\n"
     ]
    }
   ],
   "source": [
    "train_loader, test_loader = setup_data_loaders(batch_size=256, use_cuda=USE_CUDA)\n",
    "\n",
    "# clear param store\n",
    "pyro.clear_param_store()\n",
    "\n",
    "# setup the VAE\n",
    "vae = VAE(use_cuda=USE_CUDA)\n",
    "\n",
    "# setup the optimizer\n",
    "adam_args = {\"lr\": LEARNING_RATE}\n",
    "optimizer = Adam(adam_args)\n",
    "\n",
    "# setup the inference algorithm\n",
    "svi = SVI(vae.model, vae.guide, optimizer, loss=Trace_ELBO())\n",
    "\n",
    "train_elbo = []\n",
    "test_elbo = []\n",
    "# training loop\n",
    "for epoch in range(NUM_EPOCHS):\n",
    "    total_epoch_loss_train = train(svi, train_loader, use_cuda=USE_CUDA)\n",
    "    train_elbo.append(-total_epoch_loss_train)\n",
    "    print(\"[epoch %03d]  average training loss: %.4f\" % (epoch, total_epoch_loss_train))\n",
    "\n",
    "    if epoch % TEST_FREQUENCY == 0:\n",
    "        # report test diagnostics\n",
    "        total_epoch_loss_test = evaluate(svi, test_loader, use_cuda=USE_CUDA)\n",
    "        test_elbo.append(-total_epoch_loss_test)\n",
    "        print(\"[epoch %03d] average test loss: %.4f\" % (epoch, total_epoch_loss_test))"
   ]
  },
  {
   "cell_type": "code",
   "execution_count": 12,
   "metadata": {},
   "outputs": [],
   "source": [
    "import matplotlib.pyplot as plt\n",
    "%matplotlib inline"
   ]
  },
  {
   "cell_type": "code",
   "execution_count": 82,
   "metadata": {},
   "outputs": [],
   "source": [
    "def test_reconstruction(img):\n",
    "    rec_img_orig = vae.reconstruct_img((img // 255.).cuda()).cpu().detach().numpy()\n",
    "    rec_img = rec_img_orig.reshape((28, 28))\n",
    "    rec_img = rec_img / rec_img.max()\n",
    "    timg = torch.tensor(rec_img_orig)\n",
    "    timg = timg / timg.max()\n",
    "    timg = dist.Bernoulli(timg).sample()\n",
    "    timg = timg.reshape((28,28))\n",
    "    fig, axs = plt.subplots(nrows=1, ncols=3, sharey=True, figsize=(5, 3))\n",
    "    axs[0].imshow(img, cmap=plt.cm.gray)\n",
    "    axs[1].imshow(rec_img, cmap=plt.cm.gray)\n",
    "    axs[2].imshow(timg, cmap=plt.cm.gray)\n",
    "    return rec_img_orig\n",
    "    \n",
    "    \n",
    "    "
   ]
  },
  {
   "cell_type": "code",
   "execution_count": 91,
   "metadata": {},
   "outputs": [
    {
     "data": {
      "image/png": "[encoded data removed]",
      "text/plain": [
       "<Figure size 360x216 with 3 Axes>"
      ]
     },
     "metadata": {
      "needs_background": "light"
     },
     "output_type": "display_data"
    }
   ],
   "source": [
    "rimg = test_reconstruction(train_loader.dataset.data[3])"
   ]
  },
  {
   "cell_type": "code",
   "execution_count": 95,
   "metadata": {},
   "outputs": [
    {
     "data": {
      "text/plain": [
       "torch.Size([400, 784])"
      ]
     },
     "execution_count": 95,
     "metadata": {},
     "output_type": "execute_result"
    }
   ],
   "source": [
    "vae.state_dict()[\"encoder.fc1.weight\"].size()"
   ]
  },
  {
   "cell_type": "code",
   "execution_count": 118,
   "metadata": {},
   "outputs": [],
   "source": [
    "def sample_image():\n",
    "    z_loc = torch.zeros((1, vae.z_dim)).cuda()\n",
    "    z_scale = torch.ones((1, vae.z_dim)).cuda()\n",
    "\n",
    "    z = dist.Normal(z_loc, z_scale).sample()\n",
    "\n",
    "    probs = vae.decoder(z).reshape((28,28))\n",
    "    img = dist.Bernoulli(probs).sample().cpu()\n",
    "    return img"
   ]
  },
  {
   "cell_type": "code",
   "execution_count": 123,
   "metadata": {},
   "outputs": [
    {
     "data": {
      "image/png": "[encoded data removed]",
      "text/plain": [
       "<Figure size 720x1440 with 50 Axes>"
      ]
     },
     "metadata": {
      "needs_background": "light"
     },
     "output_type": "display_data"
    }
   ],
   "source": [
    "rows = 10\n",
    "cols = 5\n",
    "fig, axs = plt.subplots(nrows=rows, ncols=cols, sharey=True, sharex=True, figsize=(2*cols, 2*rows))\n",
    "for row in range(rows):\n",
    "    for col in range(cols):\n",
    "        img = sample_image()\n",
    "        axs[row][col].imshow(img, cmap=plt.cm.gray)"
   ]
  },
  {
   "cell_type": "code",
   "execution_count": 124,
   "metadata": {},
   "outputs": [],
   "source": [
    "torch.save(vae.state_dict(), \"vae_2020-03-26.pth\")"
   ]
  },
  {
   "cell_type": "code",
   "execution_count": null,
   "metadata": {},
   "outputs": [],
   "source": []
  }
 ],
 "metadata": {
  "kernelspec": {
   "display_name": "Python 3",
   "language": "python",
   "name": "python3"
  },
  "language_info": {
   "codemirror_mode": {
    "name": "ipython",
    "version": 3
   },
   "file_extension": ".py",
   "mimetype": "text/x-python",
   "name": "python",
   "nbconvert_exporter": "python",
   "pygments_lexer": "ipython3",
   "version": "3.7.6"
  }
 },
 "nbformat": 4,
 "nbformat_minor": 4
}
