{
 "cells": [
  {
   "cell_type": "code",
   "execution_count": 1,
   "metadata": {},
   "outputs": [],
   "source": [
    "import matplotlib.pyplot as plt\n",
    "import numpy as np\n",
    "import pandas as pd\n",
    "import torch\n",
    "\n",
    "import pyro\n",
    "import pyro.infer\n",
    "import pyro.optim\n",
    "import pyro.distributions as dist\n",
    "\n",
    "from itertools import product"
   ]
  },
  {
   "cell_type": "markdown",
   "metadata": {},
   "source": [
    "### 4.2.a)"
   ]
  },
  {
   "cell_type": "markdown",
   "metadata": {},
   "source": [
    "### 4.2.b)"
   ]
  },
  {
   "cell_type": "markdown",
   "metadata": {},
   "source": [
    "$$Var(4X) = 4^2 Var(X) \\rightarrow 4X \\sim \\mathcal{N}(0,4)$$"
   ]
  },
  {
   "cell_type": "markdown",
   "metadata": {},
   "source": [
    "$$Var(Y) = Var(4X) + Var(N_y) \\rightarrow P_Y^{\\mathbb{M}} = \\mathcal{N}(0, 16 + 1) = \\mathcal{N}(0, 17)$$"
   ]
  },
  {
   "cell_type": "markdown",
   "metadata": {},
   "source": [
    "### 4.2.c)"
   ]
  },
  {
   "cell_type": "markdown",
   "metadata": {},
   "source": [
    "$$P_Y^{\\mathbb{M}:do(X=2)} = \\mathcal{N}(0 + 4*2, 1) = \\mathcal{N}(8, 1)$$"
   ]
  },
  {
   "cell_type": "markdown",
   "metadata": {},
   "source": [
    "### 4.2.d)"
   ]
  },
  {
   "cell_type": "markdown",
   "metadata": {},
   "source": [
    "### 4.2.e)\n",
    "\n",
    "$P(X,Y)$ is a bivariate normal distribution, so $P_\\mathbb{M}(X|Y=2)$ (or $P_X^{\\mathbb{M}:Y=2}$) is (see https://en.wikipedia.org/wiki/Multivariate_normal_distribution#Bivariate_case_2)\n",
    "\n",
    "correlation:"
   ]
  },
  {
   "cell_type": "markdown",
   "metadata": {},
   "source": [
    "$$\\mu_x=0, \\mu_y=0, \\sigma_x=1, \\sigma_y=\\sqrt{4^2 +1} $$"
   ]
  },
  {
   "cell_type": "markdown",
   "metadata": {},
   "source": [
    "$$\\rho = \\frac{E[(X-\\mu_x)(Y-\\mu_y)]}{\\sigma_x \\sigma_y}$$"
   ]
  },
  {
   "cell_type": "markdown",
   "metadata": {},
   "source": [
    "$$= \\frac{E[(X-0)(4X+N_y-0)]}{\\sigma_x \\sigma_y}$$"
   ]
  },
  {
   "cell_type": "markdown",
   "metadata": {},
   "source": [
    "$$= \\frac{E[4X^2 + X N_y)]}{\\sigma_x \\sigma_y}$$"
   ]
  },
  {
   "cell_type": "markdown",
   "metadata": {},
   "source": [
    "(because $X \\bot N_Y$) $$= \\frac{E[4X^2] + E[X] E[N_y]}{\\sigma_x \\sigma_y}$$ "
   ]
  },
  {
   "cell_type": "markdown",
   "metadata": {},
   "source": [
    "(1 degree of freedom because only one variable)\n",
    "\n",
    "$$X^2 \\sim \\chi^2(1) \\rightarrow E(4X^2) = 4*1 =4$$ "
   ]
  },
  {
   "cell_type": "markdown",
   "metadata": {},
   "source": [
    "$$\\rightarrow \\rho = \\frac{4}{1 * \\sqrt{17}}$$ "
   ]
  },
  {
   "cell_type": "markdown",
   "metadata": {},
   "source": [
    "$$P_X^{\\mathbb{M}:Y=2} = \\mathcal{N}\\big(\\mu_x + \\frac{\\sigma_x}{\\sigma_y}\\rho(2-\\mu_y), (1-\\rho^2)\\sigma_x^2\\big)$$"
   ]
  },
  {
   "cell_type": "markdown",
   "metadata": {},
   "source": [
    "$$= \\mathcal{N}\\big(0 + \\frac{\\sigma_x}{\\sigma_y}\\rho(2-\\mu_y), (1-\\rho^2)\\sigma_x^2\\big)$$"
   ]
  },
  {
   "cell_type": "markdown",
   "metadata": {},
   "source": [
    "$$= \\mathcal{N}\\big(\\frac{1}{\\sqrt{17}}\\frac{4}{\\sqrt{17}}(2-0), (1-(\\frac{4}{\\sqrt{17}})^2)*1\\big)$$"
   ]
  },
  {
   "cell_type": "markdown",
   "metadata": {},
   "source": [
    "$$= \\mathcal{N}\\big(\\frac{4}{17}*2, (1-\\frac{16}{17}))\\big)$$\n",
    "$$P_X^{\\mathbb{M}:Y=2} = \\mathcal{N}\\big(\\frac{8}{17}, \\frac{1}{17}\\big)$$"
   ]
  },
  {
   "cell_type": "markdown",
   "metadata": {},
   "source": [
    "### 4.2.f)"
   ]
  },
  {
   "cell_type": "markdown",
   "metadata": {},
   "source": [
    "$$P_X^{\\mathbb{M}:do(Y=2)} = \\mathcal{N}(0,1)$$"
   ]
  },
  {
   "cell_type": "markdown",
   "metadata": {},
   "source": [
    "### 4.2.g)"
   ]
  },
  {
   "cell_type": "code",
   "execution_count": 2,
   "metadata": {},
   "outputs": [],
   "source": [
    "def model():\n",
    "    X = pyro.sample(\"X\", dist.Normal(0.0, 1.0))\n",
    "    Ny = pyro.sample(\"Ny\", dist.Normal(0.0, 1.0))\n",
    "    Y = 4*X + Ny\n",
    "    Y = pyro.sample(\"Y\", dist.Normal(Y, 0.01))"
   ]
  },
  {
   "cell_type": "code",
   "execution_count": 3,
   "metadata": {},
   "outputs": [],
   "source": [
    "trace_handler = pyro.poutine.trace(model)"
   ]
  },
  {
   "cell_type": "code",
   "execution_count": 4,
   "metadata": {},
   "outputs": [],
   "source": [
    "NUM_SAMPLES = 10\n",
    "l_samples = []\n",
    "for i in range(NUM_SAMPLES):\n",
    "    trace = trace_handler.get_trace()\n",
    "    x = trace.nodes[\"X\"][\"value\"].item()\n",
    "    y = trace.nodes[\"Y\"][\"value\"].item()\n",
    "    sample = (x, y)\n",
    "    l_samples.append(sample)"
   ]
  },
  {
   "cell_type": "code",
   "execution_count": 5,
   "metadata": {},
   "outputs": [
    {
     "data": {
      "text/plain": [
       "[(-0.2593660354614258, 0.18044322729110718),\n",
       " (-0.23269769549369812, -1.549285650253296),\n",
       " (-0.2506776750087738, -2.138352632522583),\n",
       " (-0.22582589089870453, -0.390533983707428),\n",
       " (0.250608891248703, 1.9200994968414307),\n",
       " (0.030343862250447273, -1.193920373916626),\n",
       " (2.177656412124634, 8.775566101074219),\n",
       " (-2.2350215911865234, -8.805351257324219),\n",
       " (-0.4704291522502899, -1.717970848083496),\n",
       " (0.3804784119129181, 0.13829508423805237)]"
      ]
     },
     "execution_count": 5,
     "metadata": {},
     "output_type": "execute_result"
    }
   ],
   "source": [
    "l_samples"
   ]
  },
  {
   "cell_type": "markdown",
   "metadata": {},
   "source": [
    "### 4.2.h)"
   ]
  },
  {
   "cell_type": "code",
   "execution_count": 6,
   "metadata": {},
   "outputs": [],
   "source": [
    "model_do = pyro.condition(model, data={\"X\": torch.tensor(2)})"
   ]
  },
  {
   "cell_type": "code",
   "execution_count": 7,
   "metadata": {},
   "outputs": [],
   "source": [
    "trace_handler = pyro.poutine.trace(model_do)"
   ]
  },
  {
   "cell_type": "code",
   "execution_count": 8,
   "metadata": {},
   "outputs": [],
   "source": [
    "NUM_SAMPLES = 100\n",
    "l_samples = []\n",
    "for i in range(NUM_SAMPLES):\n",
    "    trace = trace_handler.get_trace()\n",
    "    y = trace.nodes[\"Y\"][\"value\"].item()\n",
    "    l_samples.append(y)"
   ]
  },
  {
   "cell_type": "code",
   "execution_count": 9,
   "metadata": {},
   "outputs": [],
   "source": [
    "%matplotlib inline"
   ]
  },
  {
   "cell_type": "code",
   "execution_count": 10,
   "metadata": {},
   "outputs": [
    {
     "data": {
      "image/png": "[encoded data removed]",
      "text/plain": [
       "<Figure size 432x288 with 1 Axes>"
      ]
     },
     "metadata": {
      "needs_background": "light"
     },
     "output_type": "display_data"
    }
   ],
   "source": [
    "plt.hist(l_samples,bins=20);"
   ]
  },
  {
   "cell_type": "markdown",
   "metadata": {},
   "source": [
    "### 4.2.i)"
   ]
  },
  {
   "cell_type": "code",
   "execution_count": 11,
   "metadata": {},
   "outputs": [],
   "source": [
    "model_cond = pyro.condition(model, data={\"Y\": torch.tensor(2)})"
   ]
  },
  {
   "cell_type": "code",
   "execution_count": 12,
   "metadata": {},
   "outputs": [],
   "source": [
    "trace_handler = pyro.poutine.trace(model_cond)"
   ]
  },
  {
   "cell_type": "code",
   "execution_count": 13,
   "metadata": {},
   "outputs": [],
   "source": [
    "NUM_SAMPLES = 100\n",
    "l_samples = []\n",
    "for i in range(NUM_SAMPLES):\n",
    "    trace = trace_handler.get_trace()\n",
    "    x = trace.nodes[\"X\"][\"value\"].item()\n",
    "    y = trace.nodes[\"Y\"][\"value\"].item()\n",
    "    l_samples.append((x,y))"
   ]
  },
  {
   "cell_type": "code",
   "execution_count": 14,
   "metadata": {},
   "outputs": [
    {
     "data": {
      "text/plain": [
       "[(0.8770524263381958, 2),\n",
       " (-0.8432202935218811, 2),\n",
       " (-0.7086594700813293, 2),\n",
       " (0.9794921875, 2),\n",
       " (0.942607045173645, 2),\n",
       " (-0.009752245619893074, 2),\n",
       " (0.07391933351755142, 2),\n",
       " (0.08065754920244217, 2),\n",
       " (1.835209846496582, 2),\n",
       " (-0.9123420715332031, 2),\n",
       " (-0.42892512679100037, 2),\n",
       " (0.7593942284584045, 2),\n",
       " (-1.0728734731674194, 2),\n",
       " (-1.8620394468307495, 2),\n",
       " (-1.2842390537261963, 2),\n",
       " (1.0959974527359009, 2),\n",
       " (0.036350734531879425, 2),\n",
       " (-0.25814318656921387, 2),\n",
       " (-0.7745528817176819, 2),\n",
       " (-0.590887725353241, 2),\n",
       " (0.5496968030929565, 2),\n",
       " (-0.4521237909793854, 2),\n",
       " (-0.18685869872570038, 2),\n",
       " (0.4347769021987915, 2),\n",
       " (-1.0263077020645142, 2),\n",
       " (0.7679622173309326, 2),\n",
       " (-0.46915367245674133, 2),\n",
       " (-0.08008336275815964, 2),\n",
       " (-0.7381357550621033, 2),\n",
       " (-0.2626643776893616, 2),\n",
       " (0.8092488050460815, 2),\n",
       " (0.15860702097415924, 2),\n",
       " (1.3754792213439941, 2),\n",
       " (0.6869575381278992, 2),\n",
       " (-1.0842359066009521, 2),\n",
       " (0.8150673508644104, 2),\n",
       " (-0.23161157965660095, 2),\n",
       " (-0.6112589240074158, 2),\n",
       " (-0.8218493461608887, 2),\n",
       " (-0.6232126355171204, 2),\n",
       " (-2.468562126159668, 2),\n",
       " (-1.0640162229537964, 2),\n",
       " (1.3689476251602173, 2),\n",
       " (1.2783583402633667, 2),\n",
       " (-1.6716312170028687, 2),\n",
       " (0.7125011086463928, 2),\n",
       " (-0.9476156830787659, 2),\n",
       " (-0.3331754207611084, 2),\n",
       " (1.1350113153457642, 2),\n",
       " (0.4267553985118866, 2),\n",
       " (-0.13054443895816803, 2),\n",
       " (1.1484766006469727, 2),\n",
       " (-2.4938743114471436, 2),\n",
       " (0.8102219700813293, 2),\n",
       " (-2.3916921615600586, 2),\n",
       " (-1.246880054473877, 2),\n",
       " (0.8273977041244507, 2),\n",
       " (-0.4557120203971863, 2),\n",
       " (-1.425363540649414, 2),\n",
       " (-0.14331240952014923, 2),\n",
       " (-0.17326192557811737, 2),\n",
       " (0.577944815158844, 2),\n",
       " (0.9356927871704102, 2),\n",
       " (1.3368786573410034, 2),\n",
       " (0.33995112776756287, 2),\n",
       " (2.9311602115631104, 2),\n",
       " (-0.006369027774780989, 2),\n",
       " (0.3777086138725281, 2),\n",
       " (-1.8185847997665405, 2),\n",
       " (1.9570952653884888, 2),\n",
       " (0.6301715970039368, 2),\n",
       " (0.20325274765491486, 2),\n",
       " (0.18919974565505981, 2),\n",
       " (0.364298939704895, 2),\n",
       " (0.2918224334716797, 2),\n",
       " (0.12235496193170547, 2),\n",
       " (-1.2571879625320435, 2),\n",
       " (0.1388920396566391, 2),\n",
       " (0.3386836349964142, 2),\n",
       " (2.275785207748413, 2),\n",
       " (1.7382960319519043, 2),\n",
       " (0.13344325125217438, 2),\n",
       " (1.1430507898330688, 2),\n",
       " (-0.4125927984714508, 2),\n",
       " (-1.3528751134872437, 2),\n",
       " (-2.1560685634613037, 2),\n",
       " (2.2631871700286865, 2),\n",
       " (-0.2625776529312134, 2),\n",
       " (-1.4974168539047241, 2),\n",
       " (0.9191616773605347, 2),\n",
       " (0.5032945275306702, 2),\n",
       " (-1.2845202684402466, 2),\n",
       " (0.4832363724708557, 2),\n",
       " (0.12145127356052399, 2),\n",
       " (1.2405823469161987, 2),\n",
       " (1.0502064228057861, 2),\n",
       " (0.7088508605957031, 2),\n",
       " (-0.3180157244205475, 2),\n",
       " (0.3862493336200714, 2),\n",
       " (-1.7563523054122925, 2)]"
      ]
     },
     "execution_count": 14,
     "metadata": {},
     "output_type": "execute_result"
    }
   ],
   "source": [
    "l_samples"
   ]
  },
  {
   "cell_type": "code",
   "execution_count": 18,
   "metadata": {},
   "outputs": [
    {
     "data": {
      "image/png": "[encoded data removed]",
      "text/plain": [
       "<Figure size 432x288 with 1 Axes>"
      ]
     },
     "metadata": {
      "needs_background": "light"
     },
     "output_type": "display_data"
    }
   ],
   "source": [
    "plt.hist([s[0] for s in l_samples], bins=30);"
   ]
  },
  {
   "cell_type": "code",
   "execution_count": 46,
   "metadata": {},
   "outputs": [
    {
     "data": {
      "text/plain": [
       "1.0064335811999627"
      ]
     },
     "execution_count": 46,
     "metadata": {},
     "output_type": "execute_result"
    }
   ],
   "source": [
    "np.mean(l_samples)"
   ]
  },
  {
   "cell_type": "code",
   "execution_count": 47,
   "metadata": {},
   "outputs": [
    {
     "data": {
      "text/plain": [
       "0.47058823529411764"
      ]
     },
     "execution_count": 47,
     "metadata": {},
     "output_type": "execute_result"
    }
   ],
   "source": [
    "8/17"
   ]
  },
  {
   "cell_type": "code",
   "execution_count": 134,
   "metadata": {},
   "outputs": [],
   "source": [
    "imp_model_cond = pyro.infer.Importance(model_cond, num_samples=100000)"
   ]
  },
  {
   "cell_type": "code",
   "execution_count": 135,
   "metadata": {},
   "outputs": [],
   "source": [
    "inf_model_cond = imp_model_cond.run()"
   ]
  },
  {
   "cell_type": "code",
   "execution_count": 101,
   "metadata": {},
   "outputs": [
    {
     "data": {
      "text/plain": [
       "pyro.infer.importance.Importance"
      ]
     },
     "execution_count": 101,
     "metadata": {},
     "output_type": "execute_result"
    }
   ],
   "source": [
    "type(inf_model_cond)"
   ]
  },
  {
   "cell_type": "code",
   "execution_count": 102,
   "metadata": {},
   "outputs": [],
   "source": [
    "inf_samples = [tr.nodes[\"X\"][\"value\"].item() for tr in inf_model_cond.exec_traces]"
   ]
  },
  {
   "cell_type": "code",
   "execution_count": 103,
   "metadata": {},
   "outputs": [
    {
     "data": {
      "image/png": "[encoded data removed]",
      "text/plain": [
       "<Figure size 432x288 with 1 Axes>"
      ]
     },
     "metadata": {
      "needs_background": "light"
     },
     "output_type": "display_data"
    }
   ],
   "source": [
    "plt.hist(inf_samples, bins=30);"
   ]
  },
  {
   "cell_type": "code",
   "execution_count": 104,
   "metadata": {},
   "outputs": [
    {
     "data": {
      "text/plain": [
       "(-0.007030339359781646,\n",
       " 0.47058823529411764,\n",
       " 1.0127494855684156,\n",
       " 0.058823529411764705)"
      ]
     },
     "execution_count": 104,
     "metadata": {},
     "output_type": "execute_result"
    }
   ],
   "source": [
    "np.mean(inf_samples), 8/17, np.std(inf_samples), 1/17"
   ]
  },
  {
   "cell_type": "code",
   "execution_count": 105,
   "metadata": {},
   "outputs": [
    {
     "data": {
      "text/plain": [
       "tensor(29.4497)"
      ]
     },
     "execution_count": 105,
     "metadata": {},
     "output_type": "execute_result"
    }
   ],
   "source": [
    "inf_model_cond.get_ESS()"
   ]
  },
  {
   "cell_type": "code",
   "execution_count": 123,
   "metadata": {},
   "outputs": [],
   "source": [
    "emp_dist_model_cond = inf_model_cond.marginal([\"X\"]).empirical[\"X\"]"
   ]
  },
  {
   "cell_type": "code",
   "execution_count": 133,
   "metadata": {},
   "outputs": [
    {
     "data": {
      "text/plain": [
       "tensor(0.4513)"
      ]
     },
     "execution_count": 133,
     "metadata": {},
     "output_type": "execute_result"
    }
   ],
   "source": [
    "emp_dist_model_cond.mean "
   ]
  },
  {
   "cell_type": "code",
   "execution_count": 122,
   "metadata": {},
   "outputs": [
    {
     "data": {
      "text/plain": [
       "0.24253562503633297"
      ]
     },
     "execution_count": 122,
     "metadata": {},
     "output_type": "execute_result"
    }
   ],
   "source": [
    "8"
   ]
  },
  {
   "cell_type": "code",
   "execution_count": null,
   "metadata": {},
   "outputs": [],
   "source": []
  }
 ],
 "metadata": {
  "hide_input": false,
  "kernelspec": {
   "display_name": "Python 3",
   "language": "python",
   "name": "python3"
  },
  "language_info": {
   "codemirror_mode": {
    "name": "ipython",
    "version": 3
   },
   "file_extension": ".py",
   "mimetype": "text/x-python",
   "name": "python",
   "nbconvert_exporter": "python",
   "pygments_lexer": "ipython3",
   "version": "3.8.2"
  }
 },
 "nbformat": 4,
 "nbformat_minor": 4
}
