{
 "cells": [
  {
   "cell_type": "code",
   "execution_count": 5,
   "metadata": {},
   "outputs": [],
   "source": [
    "import matplotlib.pyplot as plt\n",
    "import numpy as np\n",
    "import pandas as pd\n",
    "import torch\n",
    "\n",
    "import pyro\n",
    "import pyro.infer\n",
    "import pyro.optim\n",
    "import pyro.distributions as dist\n",
    "\n",
    "from itertools import product"
   ]
  },
  {
   "cell_type": "markdown",
   "metadata": {},
   "source": [
    "### 4.2.a)"
   ]
  },
  {
   "cell_type": "markdown",
   "metadata": {},
   "source": [
    "### 4.2.b)"
   ]
  },
  {
   "cell_type": "markdown",
   "metadata": {},
   "source": [
    "$$Var(4X) = 4^2 Var(X) \\rightarrow 4X \\sim \\mathcal{N}(0,4)$$"
   ]
  },
  {
   "cell_type": "markdown",
   "metadata": {},
   "source": [
    "$$Var(Y) = Var(4X) + Var(N_y) \\rightarrow P_Y^{\\mathbb{M}} = \\mathcal{N}(0, \\sqrt{16 + 1}) = \\mathcal{N}(0, \\sqrt{17})$$"
   ]
  },
  {
   "cell_type": "markdown",
   "metadata": {},
   "source": [
    "### 4.2.c)"
   ]
  },
  {
   "cell_type": "markdown",
   "metadata": {},
   "source": [
    "$$P_Y^{\\mathbb{M}:do(X=2)} = \\mathcal{N}(0 + 4*2, 1) = \\mathcal{N}(8, 1)$$"
   ]
  },
  {
   "cell_type": "markdown",
   "metadata": {},
   "source": [
    "### 4.2.d)"
   ]
  },
  {
   "cell_type": "markdown",
   "metadata": {},
   "source": [
    "### 4.2.e)\n",
    "\n",
    "$P(X,Y)$ is a bivariate normal distribution, so $P_\\mathbb{M}(X|Y=2)$ (or $P_X^{\\mathbb{M}:Y=2}$) is (see https://en.wikipedia.org/wiki/Multivariate_normal_distribution#Bivariate_case_2)\n",
    "\n",
    "correlation:"
   ]
  },
  {
   "cell_type": "markdown",
   "metadata": {},
   "source": [
    "$$\\mu_x=0, \\mu_y=0, \\sigma_x=1, \\sigma_y=\\sqrt{4^2 +1} $$"
   ]
  },
  {
   "cell_type": "markdown",
   "metadata": {},
   "source": [
    "$$\\rho = \\frac{E[(X-\\mu_x)(Y-\\mu_y)]}{\\sigma_x \\sigma_y}$$"
   ]
  },
  {
   "cell_type": "markdown",
   "metadata": {},
   "source": [
    "$$= \\frac{E[(X-0)(4X+N_y-0)]}{\\sigma_x \\sigma_y}$$"
   ]
  },
  {
   "cell_type": "markdown",
   "metadata": {},
   "source": [
    "$$= \\frac{E[4X^2 + X N_y)]}{\\sigma_x \\sigma_y}$$"
   ]
  },
  {
   "cell_type": "markdown",
   "metadata": {},
   "source": [
    "(because $X \\bot N_Y$) $$= \\frac{E[4X^2] + E[X] E[N_y]}{\\sigma_x \\sigma_y}$$ "
   ]
  },
  {
   "cell_type": "markdown",
   "metadata": {},
   "source": [
    "(1 degree of freedom because only one variable)\n",
    "\n",
    "$$X^2 \\sim \\chi^2(1) \\rightarrow E(4X^2) = 4*1 =4$$ "
   ]
  },
  {
   "cell_type": "markdown",
   "metadata": {},
   "source": [
    "$$\\rightarrow \\rho = \\frac{4}{1 * \\sqrt{17}}$$ "
   ]
  },
  {
   "cell_type": "markdown",
   "metadata": {},
   "source": [
    "$$P_X^{\\mathbb{M}:Y=2} = \\mathcal{N}\\big(\\mu_x + \\frac{\\sigma_x}{\\sigma_y}\\rho(2-\\mu_y), (1-\\rho^2)\\sigma_x^2\\big)$$"
   ]
  },
  {
   "cell_type": "markdown",
   "metadata": {},
   "source": [
    "$$= \\mathcal{N}\\big(0 + \\frac{\\sigma_x}{\\sigma_y}\\rho(2-\\mu_y), (1-\\rho^2)\\sigma_x^2\\big)$$"
   ]
  },
  {
   "cell_type": "markdown",
   "metadata": {},
   "source": [
    "$$= \\mathcal{N}\\big(\\frac{1}{\\sqrt{17}}\\frac{4}{\\sqrt{17}}(2-0), (1-(\\frac{4}{\\sqrt{17}})^2)*1\\big)$$"
   ]
  },
  {
   "cell_type": "markdown",
   "metadata": {},
   "source": [
    "$$= \\mathcal{N}\\big(\\frac{4}{17}*2, (1-\\frac{16}{17}))\\big)$$\n",
    "$$P_X^{\\mathbb{M}:Y=2} = \\mathcal{N}\\big(\\frac{8}{17}, \\frac{1}{17}\\big)$$"
   ]
  },
  {
   "cell_type": "markdown",
   "metadata": {},
   "source": [
    "### 4.2.f)"
   ]
  },
  {
   "cell_type": "markdown",
   "metadata": {},
   "source": [
    "$$P_X^{\\mathbb{M}:do(Y=2)} = \\mathcal{N}(0,1)$$"
   ]
  },
  {
   "cell_type": "markdown",
   "metadata": {},
   "source": [
    "### 4.2.g)"
   ]
  },
  {
   "cell_type": "code",
   "execution_count": 6,
   "metadata": {},
   "outputs": [],
   "source": [
    "def model():\n",
    "    X = pyro.sample(\"X\", dist.Normal(0.0, 1.0))\n",
    "    Ny = pyro.sample(\"Ny\", dist.Normal(0.0, 1.0))\n",
    "    Y = 4*X + Ny\n",
    "    Y = pyro.sample(\"Y\", dist.Normal(Y, 0.01))"
   ]
  },
  {
   "cell_type": "code",
   "execution_count": 7,
   "metadata": {},
   "outputs": [],
   "source": [
    "trace_handler = pyro.poutine.trace(model)"
   ]
  },
  {
   "cell_type": "code",
   "execution_count": 9,
   "metadata": {},
   "outputs": [],
   "source": [
    "NUM_SAMPLES = 10\n",
    "l_samples = []\n",
    "for i in range(NUM_SAMPLES):\n",
    "    trace = trace_handler.get_trace()\n",
    "    x = trace.nodes[\"X\"][\"value\"].item()\n",
    "    y = trace.nodes[\"Y\"][\"value\"].item()\n",
    "    sample = (x, y)\n",
    "    l_samples.append(sample)"
   ]
  },
  {
   "cell_type": "code",
   "execution_count": 10,
   "metadata": {},
   "outputs": [
    {
     "data": {
      "text/plain": [
       "[(-0.9973377585411072, -1.4332162141799927),\n",
       " (0.03974306955933571, -1.371384620666504),\n",
       " (-1.641197919845581, -6.667521953582764),\n",
       " (0.4094753861427307, -0.5385472774505615),\n",
       " (-0.7070794105529785, -3.0479891300201416),\n",
       " (0.11347012221813202, 0.9687702655792236),\n",
       " (-0.9303310513496399, -3.4573769569396973),\n",
       " (1.1109298467636108, 5.710343360900879),\n",
       " (0.8607052564620972, 2.0270843505859375),\n",
       " (-0.3293702006340027, -0.8347093462944031)]"
      ]
     },
     "execution_count": 10,
     "metadata": {},
     "output_type": "execute_result"
    }
   ],
   "source": [
    "l_samples"
   ]
  },
  {
   "cell_type": "markdown",
   "metadata": {},
   "source": [
    "### 4.2.h)"
   ]
  },
  {
   "cell_type": "code",
   "execution_count": 11,
   "metadata": {},
   "outputs": [],
   "source": [
    "model_do = pyro.condition(model, data={\"X\": torch.tensor(2)})"
   ]
  },
  {
   "cell_type": "code",
   "execution_count": 13,
   "metadata": {},
   "outputs": [],
   "source": [
    "trace_handler = pyro.poutine.trace(model_do)"
   ]
  },
  {
   "cell_type": "code",
   "execution_count": 38,
   "metadata": {},
   "outputs": [],
   "source": [
    "NUM_SAMPLES = 100\n",
    "l_samples = []\n",
    "for i in range(NUM_SAMPLES):\n",
    "    trace = trace_handler.get_trace()\n",
    "    y = trace.nodes[\"Y\"][\"value\"].item()\n",
    "    l_samples.append(y)"
   ]
  },
  {
   "cell_type": "code",
   "execution_count": 39,
   "metadata": {},
   "outputs": [],
   "source": [
    "%matplotlib inline"
   ]
  },
  {
   "cell_type": "code",
   "execution_count": 41,
   "metadata": {},
   "outputs": [
    {
     "data": {
      "image/png": "[encoded data removed]",
      "text/plain": [
       "<Figure size 432x288 with 1 Axes>"
      ]
     },
     "metadata": {
      "needs_background": "light"
     },
     "output_type": "display_data"
    }
   ],
   "source": [
    "plt.hist(l_samples,bins=20);"
   ]
  },
  {
   "cell_type": "markdown",
   "metadata": {},
   "source": [
    "### 4.2.i)"
   ]
  },
  {
   "cell_type": "code",
   "execution_count": 42,
   "metadata": {},
   "outputs": [],
   "source": [
    "model_cond = pyro.condition(model, data={\"Y\": torch.tensor(2)})"
   ]
  },
  {
   "cell_type": "code",
   "execution_count": 43,
   "metadata": {},
   "outputs": [],
   "source": [
    "trace_handler = pyro.poutine.trace(model_cond)"
   ]
  },
  {
   "cell_type": "code",
   "execution_count": 44,
   "metadata": {},
   "outputs": [],
   "source": [
    "NUM_SAMPLES = 100\n",
    "l_samples = []\n",
    "for i in range(NUM_SAMPLES):\n",
    "    trace = trace_handler.get_trace()\n",
    "    x = trace.nodes[\"X\"][\"value\"].item()\n",
    "    y = trace.nodes[\"Y\"][\"value\"].item()\n",
    "    l_samples.append((x,y))"
   ]
  },
  {
   "cell_type": "code",
   "execution_count": 45,
   "metadata": {},
   "outputs": [
    {
     "data": {
      "text/plain": [
       "[(0.4640348255634308, 2),\n",
       " (-0.7923606634140015, 2),\n",
       " (-0.2575669586658478, 2),\n",
       " (1.310144066810608, 2),\n",
       " (0.857098400592804, 2),\n",
       " (-0.5778070688247681, 2),\n",
       " (-1.784244179725647, 2),\n",
       " (0.0661126971244812, 2),\n",
       " (0.3210814297199249, 2),\n",
       " (-1.272904396057129, 2),\n",
       " (0.8688341975212097, 2),\n",
       " (1.2782179117202759, 2),\n",
       " (-1.8729407787322998, 2),\n",
       " (0.46437692642211914, 2),\n",
       " (-0.47941577434539795, 2),\n",
       " (1.402477502822876, 2),\n",
       " (0.23233476281166077, 2),\n",
       " (2.005610942840576, 2),\n",
       " (-1.487827181816101, 2),\n",
       " (1.340366005897522, 2),\n",
       " (1.008825421333313, 2),\n",
       " (-1.338932991027832, 2),\n",
       " (0.8225927352905273, 2),\n",
       " (1.4490039348602295, 2),\n",
       " (0.013145948760211468, 2),\n",
       " (1.123124599456787, 2),\n",
       " (2.4526166915893555, 2),\n",
       " (0.35774582624435425, 2),\n",
       " (0.6881250143051147, 2),\n",
       " (1.2024418115615845, 2),\n",
       " (-0.164274200797081, 2),\n",
       " (1.3279355764389038, 2),\n",
       " (-0.925493597984314, 2),\n",
       " (-0.3707062900066376, 2),\n",
       " (1.4305201768875122, 2),\n",
       " (-0.1102343201637268, 2),\n",
       " (-0.6955512166023254, 2),\n",
       " (-1.2032320499420166, 2),\n",
       " (-0.20154540240764618, 2),\n",
       " (0.7790562510490417, 2),\n",
       " (-0.8261037468910217, 2),\n",
       " (0.501270055770874, 2),\n",
       " (-0.30417123436927795, 2),\n",
       " (0.7049206495285034, 2),\n",
       " (-0.7121521830558777, 2),\n",
       " (-0.45247888565063477, 2),\n",
       " (2.004910707473755, 2),\n",
       " (-0.10576361417770386, 2),\n",
       " (1.2738620042800903, 2),\n",
       " (-1.3581091165542603, 2),\n",
       " (-0.4333416521549225, 2),\n",
       " (1.8525924682617188, 2),\n",
       " (-1.9124131202697754, 2),\n",
       " (-0.9758507609367371, 2),\n",
       " (0.3193674683570862, 2),\n",
       " (-1.090087890625, 2),\n",
       " (1.623511552810669, 2),\n",
       " (0.398003488779068, 2),\n",
       " (-0.9268667697906494, 2),\n",
       " (0.5787339210510254, 2),\n",
       " (1.0380380153656006, 2),\n",
       " (-1.0551245212554932, 2),\n",
       " (1.1223222017288208, 2),\n",
       " (-1.112544298171997, 2),\n",
       " (1.0209190845489502, 2),\n",
       " (0.5501198172569275, 2),\n",
       " (-0.17479264736175537, 2),\n",
       " (2.315948486328125, 2),\n",
       " (-1.2523771524429321, 2),\n",
       " (0.08922179043292999, 2),\n",
       " (0.19695934653282166, 2),\n",
       " (-0.23761624097824097, 2),\n",
       " (3.111684799194336, 2),\n",
       " (0.24153393507003784, 2),\n",
       " (0.4125353693962097, 2),\n",
       " (0.949179470539093, 2),\n",
       " (0.06873615831136703, 2),\n",
       " (0.5039938688278198, 2),\n",
       " (-0.18853113055229187, 2),\n",
       " (-2.008598804473877, 2),\n",
       " (-0.964276909828186, 2),\n",
       " (-0.9618772268295288, 2),\n",
       " (-1.6392099857330322, 2),\n",
       " (-1.020353078842163, 2),\n",
       " (0.47395431995391846, 2),\n",
       " (-0.7122923731803894, 2),\n",
       " (1.1557390689849854, 2),\n",
       " (-0.24212810397148132, 2),\n",
       " (1.2646909952163696, 2),\n",
       " (-0.111777164041996, 2),\n",
       " (-2.214796543121338, 2),\n",
       " (-0.5092800855636597, 2),\n",
       " (0.27570417523384094, 2),\n",
       " (-0.4077901244163513, 2),\n",
       " (0.6484236121177673, 2),\n",
       " (-0.6671716570854187, 2),\n",
       " (-0.16103975474834442, 2),\n",
       " (-0.43896397948265076, 2),\n",
       " (-0.5878413915634155, 2),\n",
       " (0.5874157547950745, 2)]"
      ]
     },
     "execution_count": 45,
     "metadata": {},
     "output_type": "execute_result"
    }
   ],
   "source": [
    "l_samples"
   ]
  },
  {
   "cell_type": "code",
   "execution_count": 12,
   "metadata": {},
   "outputs": [
    {
     "data": {
      "text/plain": [
       "<pyro.infer.importance.Importance at 0x2a2eeee04c0>"
      ]
     },
     "execution_count": 12,
     "metadata": {},
     "output_type": "execute_result"
    }
   ],
   "source": [
    "pyro.infer.Importance(model_do, num_samples=100)"
   ]
  },
  {
   "cell_type": "code",
   "execution_count": null,
   "metadata": {},
   "outputs": [],
   "source": []
  }
 ],
 "metadata": {
  "hide_input": false,
  "kernelspec": {
   "display_name": "Python 3",
   "language": "python",
   "name": "python3"
  },
  "language_info": {
   "codemirror_mode": {
    "name": "ipython",
    "version": 3
   },
   "file_extension": ".py",
   "mimetype": "text/x-python",
   "name": "python",
   "nbconvert_exporter": "python",
   "pygments_lexer": "ipython3",
   "version": "3.8.2"
  }
 },
 "nbformat": 4,
 "nbformat_minor": 4
}
